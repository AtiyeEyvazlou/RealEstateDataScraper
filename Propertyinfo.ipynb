{
 "cells": [
  {
   "cell_type": "code",
   "execution_count": null,
   "id": "60d71626-5df0-4037-8d79-e1ec4c0c18e1",
   "metadata": {},
   "outputs": [],
   "source": [
    "import requests\n",
    "from bs4 import BeautifulSoup\n",
    "import pandas as pd"
   ]
  },
  {
   "cell_type": "code",
   "execution_count": 2,
   "id": "b96cf0a2-9979-46b2-903d-73ecb72fb90e",
   "metadata": {},
   "outputs": [],
   "source": [
    "# Expected labels (columns)\n",
    "EXPECTED_LABELS = [\n",
    "    \"کد آگهی\", \"منطقه\", \"محله\", \"متراژ\", \"قیمت کل\", \"طبقه\", \"تعداد اتاق\", \n",
    "    \"کل طبقات\", \"تعداد واحد در طبقه\", \"موقعیت\", \"نوع ساخت\",\n",
    "    \"سال ساخت\", \"نوع سند\", \"زمان تحویل\", \"متراژ گذر\", \"عرض قطعه\",\n",
    "    \"متراژ زمین\"\n",
    "]"
   ]
  },
  {
   "cell_type": "code",
   "execution_count": 3,
   "id": "c96fdb84-c2df-4436-a5f3-6e41df129836",
   "metadata": {},
   "outputs": [],
   "source": [
    "# Function to extract data from a single URL\n",
    "def extract_data(url, expected_labels):\n",
    "    response = requests.get(url)\n",
    "    soup = BeautifulSoup(response.text, 'html.parser')\n",
    "    \n",
    "    labels = {label: \"\" for label in expected_labels}  # Initialize with empty strings\n",
    "    \n",
    "    for label_element, text_element in zip(soup.find_all(class_=\"label-infmlk\"), soup.find_all(class_=\"text-infmlk\")):\n",
    "        label_text = label_element.find('div').get_text(strip=True)\n",
    "        if label_text in expected_labels:\n",
    "            labels[label_text] = text_element.find('div').get_text(strip=True)\n",
    "    \n",
    "    return pd.DataFrame([labels])"
   ]
  },
  {
   "cell_type": "code",
   "execution_count": 9,
   "id": "6dc2c341-2bf1-4bfe-9c6c-ac175df93bb2",
   "metadata": {},
   "outputs": [],
   "source": [
    "# Function to generate URL and extract data for a given code\n",
    "def extract_data_of_given_code(given_code):\n",
    "    if 10000 < given_code < 100000:\n",
    "        url = f'https://www.melketabriz.ir/p/{given_code}'\n",
    "        return extract_data(url, EXPECTED_LABELS)\n",
    "    else:\n",
    "        print('Invalid code')\n",
    "        return None\n"
   ]
  },
  {
   "cell_type": "code",
   "execution_count": 5,
   "id": "0e12e800-a335-4a52-b6ef-25c1c88063cf",
   "metadata": {},
   "outputs": [],
   "source": [
    "# Function to add DataFrame to an existing CSV or create a new one\n",
    "def add_to_csv(df, csv_file='combined_property_info.csv'):\n",
    "    try:\n",
    "        existing_df = pd.read_csv(csv_file)\n",
    "    except FileNotFoundError:\n",
    "        existing_df = pd.DataFrame(columns=EXPECTED_LABELS)\n",
    "\n",
    "    combined_df = pd.concat([existing_df, df], ignore_index=True).fillna(0)\n",
    "    \n",
    "    # Save the combined DataFrame to a CSV file with UTF-8 encoding\n",
    "    combined_df.to_csv(csv_file, index=False, encoding='utf-8-sig')\n",
    "    \n",
    "    # Print the combined DataFrame to verify\n",
    "    print(combined_df)"
   ]
  },
  {
   "cell_type": "code",
   "execution_count": 10,
   "id": "8b0983dd-a19c-46a6-b8e3-e36b75e87804",
   "metadata": {},
   "outputs": [
    {
     "name": "stdout",
     "output_type": "stream",
     "text": [
      "  کد آگهی  منطقه محله متراژ             قیمت کل طبقه تعداد اتاق کل طبقات  \\\n",
      "0   23904  گلکار        159  ۶٬۷۷۶٬۰۰۰٬۰۰۰تومان               2        1   \n",
      "\n",
      "  تعداد واحد در طبقه         موقعیت نوع ساخت سال ساخت  نوع سند زمان تحویل  \\\n",
      "0                     3 نبش یا 3 بر              1374  شش دانگ              \n",
      "\n",
      "  متراژ گذر عرض قطعه متراژ زمین  \n",
      "0         8     14.6        154  \n"
     ]
    }
   ],
   "source": [
    "# Example usage\n",
    "df = extract_data_of_given_code(23904)\n",
    "if df is not None:\n",
    "    add_to_csv(df)"
   ]
  },
  {
   "cell_type": "code",
   "execution_count": null,
   "id": "f84af061-e637-41bf-ab2b-0aa560411cfc",
   "metadata": {},
   "outputs": [],
   "source": []
  }
 ],
 "metadata": {
  "kernelspec": {
   "display_name": "Python 3 (ipykernel)",
   "language": "python",
   "name": "python3"
  },
  "language_info": {
   "codemirror_mode": {
    "name": "ipython",
    "version": 3
   },
   "file_extension": ".py",
   "mimetype": "text/x-python",
   "name": "python",
   "nbconvert_exporter": "python",
   "pygments_lexer": "ipython3",
   "version": "3.11.8"
  }
 },
 "nbformat": 4,
 "nbformat_minor": 5
}
