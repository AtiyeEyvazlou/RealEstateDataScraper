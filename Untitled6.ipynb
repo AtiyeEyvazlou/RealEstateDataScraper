{
 "cells": [
  {
   "cell_type": "code",
   "execution_count": 7,
   "id": "1bdcef02-499e-4305-ac16-70155874061f",
   "metadata": {},
   "outputs": [],
   "source": [
    "import requests\n",
    "from bs4 import BeautifulSoup\n",
    "import pandas as pd\n",
    "\n",
    "# Expected labels (columns)\n",
    "EXPECTED_LABELS = [\n",
    "    \"کد آگهی\", \"منطقه\", \"محله\", \"متراژ\", \"قیمت کل\", \"طبقه\", \"تعداد اتاق\", \n",
    "    \"کل طبقات\", \"تعداد واحد در طبقه\", \"موقعیت\", \"نوع ساخت\",\n",
    "    \"سال ساخت\", \"نوع سند\", \"زمان تحویل\", \"متراژ گذر\", \"عرض قطعه\",\n",
    "    \"متراژ زمین\", \"نوع سازه\"\n",
    "]\n"
   ]
  },
  {
   "cell_type": "code",
   "execution_count": 9,
   "id": "ec797dea-d2c3-4992-93cc-d7ba9d9ac8a2",
   "metadata": {},
   "outputs": [],
   "source": [
    "\n",
    "# Function to extract data from a single URL\n",
    "def extract_data(url, expected_labels):\n",
    "    response = requests.get(url)\n",
    "    soup = BeautifulSoup(response.text, 'html.parser')\n",
    "    \n",
    "    labels = {label: \"\" for label in expected_labels}  # Initialize with empty strings\n",
    "    \n",
    "    for label_element, text_element in zip(soup.find_all(class_=\"label-infmlk\"), soup.find_all(class_=\"text-infmlk\")):\n",
    "        label_text = label_element.find('div').get_text(strip=True)\n",
    "        if label_text in expected_labels:\n",
    "            labels[label_text] = text_element.find('div').get_text(strip=True)\n",
    "    \n",
    "    return pd.DataFrame([labels])\n",
    "\n",
    "# Function to generate URL and extract data for a given code\n",
    "def extract_data_of_given_code(given_code):\n",
    "    if 1000 < given_code < 100000:\n",
    "        url = f'https://www.melketabriz.com/p/{given_code}'\n",
    "        return extract_data(url, EXPECTED_LABELS)\n",
    "    else:\n",
    "        print('Invalid code')\n",
    "        return None\n",
    "\n",
    "# Function to add DataFrame to an existing CSV or create a new one\n",
    "def add_to_csv(df, csv_file='combined_property_info.csv'):\n",
    "    try:\n",
    "        existing_df = pd.read_csv(csv_file)\n",
    "    except FileNotFoundError:\n",
    "        existing_df = pd.DataFrame(columns=EXPECTED_LABELS)\n",
    "\n",
    "    combined_df = pd.concat([existing_df, df], ignore_index=True).fillna(0)\n",
    "    \n",
    "    # Save the combined DataFrame to a CSV file with UTF-8 encoding\n",
    "    combined_df.to_csv(csv_file, index=False, encoding='utf-8-sig')\n",
    "    \n",
    "    # Print the combined DataFrame to verify\n",
    "    print(combined_df)"
   ]
  },
  {
   "cell_type": "code",
   "execution_count": 11,
   "id": "6fcd13b2-f9eb-4fcb-81a6-4fcc5c6a031b",
   "metadata": {},
   "outputs": [
    {
     "name": "stdout",
     "output_type": "stream",
     "text": [
      "  کد آگهی      منطقه              محله متراژ              قیمت کل طبقه  \\\n",
      "0   25923  کوی فیروز               0.0   175   ۵٬۹۵۰٬۰۰۰٬۰۰۰تومان  2.0   \n",
      "1   27918  کوی فیروز                 0   270  ۱۳٬۰۰۰٬۰۰۰٬۰۰۰تومان    0   \n",
      "2    8959  کوی فیروز  خیابان دکتر قریب    95   ۳٬۹۹۰٬۰۰۰٬۰۰۰تومان    1   \n",
      "\n",
      "  تعداد اتاق کل طبقات تعداد واحد در طبقه موقعیت  نوع ساخت سال ساخت  نوع سند  \\\n",
      "0          3        6                1.0  جنوبی  شخصی ساز     1401  شش دانگ   \n",
      "1          6        3                  0  جنوبی         0     1379  شش دانگ   \n",
      "2          2        5                  1  جنوبی  شخصی ساز     1398  شش دانگ   \n",
      "\n",
      "  زمان تحویل متراژ گذر عرض قطعه متراژ زمین نوع سازه  \n",
      "0        0.0         0        0          0        0  \n",
      "1          0         6       10        200        0  \n",
      "2                                                    \n"
     ]
    }
   ],
   "source": [
    "# Example usage\n",
    "df = extract_data_of_given_code(8959)\n",
    "if df is not None:\n",
    "    add_to_csv(df)"
   ]
  },
  {
   "cell_type": "code",
   "execution_count": null,
   "id": "4e603321-21b4-4fcb-872b-52658faf4b3e",
   "metadata": {},
   "outputs": [],
   "source": []
  }
 ],
 "metadata": {
  "kernelspec": {
   "display_name": "Python 3 (ipykernel)",
   "language": "python",
   "name": "python3"
  },
  "language_info": {
   "codemirror_mode": {
    "name": "ipython",
    "version": 3
   },
   "file_extension": ".py",
   "mimetype": "text/x-python",
   "name": "python",
   "nbconvert_exporter": "python",
   "pygments_lexer": "ipython3",
   "version": "3.12.3"
  }
 },
 "nbformat": 4,
 "nbformat_minor": 5
}
