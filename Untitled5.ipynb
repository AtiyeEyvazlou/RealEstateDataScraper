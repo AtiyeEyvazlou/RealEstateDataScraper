{
 "cells": [
  {
   "cell_type": "code",
   "execution_count": 1,
   "id": "b12e2f03-24ff-4ea2-958b-b1c51251430c",
   "metadata": {},
   "outputs": [],
   "source": [
    "import requests\n",
    "from bs4 import BeautifulSoup\n",
    "import pandas as pd"
   ]
  },
  {
   "cell_type": "code",
   "execution_count": 20,
   "id": "9442300c-ce24-4c7f-8730-164aea31ea76",
   "metadata": {},
   "outputs": [],
   "source": []
  },
  {
   "cell_type": "code",
   "execution_count": 21,
   "id": "8268bedd-faf4-4b8d-a85e-6431eec34d9c",
   "metadata": {},
   "outputs": [
    {
     "ename": "AttributeError",
     "evalue": "'DataFrame' object has no attribute 'append'",
     "output_type": "error",
     "traceback": [
      "\u001b[1;31m---------------------------------------------------------------------------\u001b[0m",
      "\u001b[1;31mAttributeError\u001b[0m                            Traceback (most recent call last)",
      "\u001b[1;32m~\\AppData\\Local\\Temp\\ipykernel_14876\\76488136.py\u001b[0m in \u001b[0;36m?\u001b[1;34m()\u001b[0m\n\u001b[1;32m----> 1\u001b[1;33m \u001b[0madd_to_exel\u001b[0m\u001b[1;33m(\u001b[0m\u001b[0mextract_data_of_given_code\u001b[0m\u001b[1;33m(\u001b[0m\u001b[1;36m25923\u001b[0m\u001b[1;33m)\u001b[0m\u001b[1;33m)\u001b[0m\u001b[1;33m\u001b[0m\u001b[1;33m\u001b[0m\u001b[0m\n\u001b[0m",
      "\u001b[1;32m~\\AppData\\Local\\Temp\\ipykernel_14876\\2781086527.py\u001b[0m in \u001b[0;36m?\u001b[1;34m(df)\u001b[0m\n\u001b[0;32m     45\u001b[0m \u001b[1;32mdef\u001b[0m \u001b[0madd_to_exel\u001b[0m\u001b[1;33m(\u001b[0m\u001b[0mdf\u001b[0m \u001b[1;33m)\u001b[0m\u001b[1;33m:\u001b[0m\u001b[1;33m\u001b[0m\u001b[1;33m\u001b[0m\u001b[0m\n\u001b[0;32m     46\u001b[0m \u001b[1;33m\u001b[0m\u001b[0m\n\u001b[0;32m     47\u001b[0m     \u001b[0mdfs\u001b[0m \u001b[1;33m=\u001b[0m \u001b[0mpd\u001b[0m\u001b[1;33m.\u001b[0m\u001b[0mread_csv\u001b[0m\u001b[1;33m(\u001b[0m\u001b[1;34m'combined_property_info.csv'\u001b[0m\u001b[1;33m)\u001b[0m\u001b[1;33m\u001b[0m\u001b[1;33m\u001b[0m\u001b[0m\n\u001b[1;32m---> 48\u001b[1;33m     \u001b[0mdfs\u001b[0m\u001b[1;33m.\u001b[0m\u001b[0mappend\u001b[0m\u001b[1;33m(\u001b[0m\u001b[0mdf\u001b[0m\u001b[1;33m)\u001b[0m\u001b[1;33m\u001b[0m\u001b[1;33m\u001b[0m\u001b[0m\n\u001b[0m\u001b[0;32m     49\u001b[0m \u001b[1;33m\u001b[0m\u001b[0m\n\u001b[0;32m     50\u001b[0m     \u001b[1;31m# Concatenate all DataFrames, filling missing values with empty strings\u001b[0m\u001b[1;33m\u001b[0m\u001b[1;33m\u001b[0m\u001b[0m\n\u001b[0;32m     51\u001b[0m     \u001b[0mcombined_df\u001b[0m \u001b[1;33m=\u001b[0m \u001b[0mpd\u001b[0m\u001b[1;33m.\u001b[0m\u001b[0mconcat\u001b[0m\u001b[1;33m(\u001b[0m\u001b[0mdfs\u001b[0m\u001b[1;33m,\u001b[0m \u001b[0mignore_index\u001b[0m\u001b[1;33m=\u001b[0m\u001b[1;32mTrue\u001b[0m \u001b[1;33m)\u001b[0m\u001b[1;31m#.fillna('')\u001b[0m\u001b[1;33m\u001b[0m\u001b[1;33m\u001b[0m\u001b[0m\n",
      "\u001b[1;32mD:\\Eyvazlou\\anaconda3\\envs\\myML\\Lib\\site-packages\\pandas\\core\\generic.py\u001b[0m in \u001b[0;36m?\u001b[1;34m(self, name)\u001b[0m\n\u001b[0;32m   6200\u001b[0m             \u001b[1;32mand\u001b[0m \u001b[0mname\u001b[0m \u001b[1;32mnot\u001b[0m \u001b[1;32min\u001b[0m \u001b[0mself\u001b[0m\u001b[1;33m.\u001b[0m\u001b[0m_accessors\u001b[0m\u001b[1;33m\u001b[0m\u001b[1;33m\u001b[0m\u001b[0m\n\u001b[0;32m   6201\u001b[0m             \u001b[1;32mand\u001b[0m \u001b[0mself\u001b[0m\u001b[1;33m.\u001b[0m\u001b[0m_info_axis\u001b[0m\u001b[1;33m.\u001b[0m\u001b[0m_can_hold_identifiers_and_holds_name\u001b[0m\u001b[1;33m(\u001b[0m\u001b[0mname\u001b[0m\u001b[1;33m)\u001b[0m\u001b[1;33m\u001b[0m\u001b[1;33m\u001b[0m\u001b[0m\n\u001b[0;32m   6202\u001b[0m         \u001b[1;33m)\u001b[0m\u001b[1;33m:\u001b[0m\u001b[1;33m\u001b[0m\u001b[1;33m\u001b[0m\u001b[0m\n\u001b[0;32m   6203\u001b[0m             \u001b[1;32mreturn\u001b[0m \u001b[0mself\u001b[0m\u001b[1;33m[\u001b[0m\u001b[0mname\u001b[0m\u001b[1;33m]\u001b[0m\u001b[1;33m\u001b[0m\u001b[1;33m\u001b[0m\u001b[0m\n\u001b[1;32m-> 6204\u001b[1;33m         \u001b[1;32mreturn\u001b[0m \u001b[0mobject\u001b[0m\u001b[1;33m.\u001b[0m\u001b[0m__getattribute__\u001b[0m\u001b[1;33m(\u001b[0m\u001b[0mself\u001b[0m\u001b[1;33m,\u001b[0m \u001b[0mname\u001b[0m\u001b[1;33m)\u001b[0m\u001b[1;33m\u001b[0m\u001b[1;33m\u001b[0m\u001b[0m\n\u001b[0m",
      "\u001b[1;31mAttributeError\u001b[0m: 'DataFrame' object has no attribute 'append'"
     ]
    }
   ],
   "source": [
    "add_to_exel(extract_data_of_given_code(25923))"
   ]
  },
  {
   "cell_type": "code",
   "execution_count": 24,
   "id": "b42afeb3-92ca-4d5c-a35c-95b88af99bf0",
   "metadata": {},
   "outputs": [
    {
     "name": "stdout",
     "output_type": "stream",
     "text": [
      "  کد آگهی         منطقه محله متراژ             قیمت کل طبقه تعداد اتاق  \\\n",
      "0   25923     کوی فیروز        175  ۵٬۹۵۰٬۰۰۰٬۰۰۰تومان    2          3   \n",
      "1   31208  ولیعصر جنوبی        210  ۹٬۴۰۰٬۰۰۰٬۰۰۰تومان    6          3   \n",
      "2   25923     کوی فیروز        175  ۵٬۹۵۰٬۰۰۰٬۰۰۰تومان    2          3   \n",
      "3   25923     کوی فیروز        175  ۵٬۹۵۰٬۰۰۰٬۰۰۰تومان    2          3   \n",
      "\n",
      "  کل طبقات تعداد واحد در طبقه موقعیت  نوع ساخت سال ساخت       نوع سند  \\\n",
      "0        6                  1  جنوبی  شخصی ساز     1401       شش دانگ   \n",
      "1        6                  1  جنوبی  شخصی ساز     1402  در دست اقدام   \n",
      "2        6                  1  جنوبی  شخصی ساز     1401       شش دانگ   \n",
      "3        6                  1  جنوبی  شخصی ساز     1401       شش دانگ   \n",
      "\n",
      "  زمان تحویل متراژ گذر عرض قطعه متراژ زمین  \n",
      "0                                           \n",
      "1                                           \n",
      "2                                           \n",
      "3                                           \n"
     ]
    }
   ],
   "source": [
    "import requests\n",
    "from bs4 import BeautifulSoup\n",
    "import pandas as pd\n",
    "\n",
    "# Function to extract data from a single URL\n",
    "def extract_data(url, expected_labels):\n",
    "    response = requests.get(url)\n",
    "    soup = BeautifulSoup(response.text, 'html.parser')\n",
    "    \n",
    "    labels = [\n",
    "        \"کد آگهی\", \"منطقه\", \"محله\", \"متراژ\", \"قیمت کل\", \"طبقه\", \"تعداد اتاق\", \n",
    "        \"کل طبقات\", \"تعداد واحد در طبقه\", \"موقعیت\", \"نوع ساخت\",\n",
    "        \"سال ساخت\", \"نوع سند\", \"زمان تحویل\", \"متراژ گذر\", \"عرض قطعه\",\n",
    "        \"متراژ زمین\"\n",
    "    ]\n",
    "    \n",
    "    label_elements = soup.find_all(class_=\"label-infmlk\")\n",
    "    text_elements = soup.find_all(class_=\"text-infmlk\")\n",
    "    \n",
    "    data = {label: \"\" for label in expected_labels}  # Initialize with empty strings\n",
    "    \n",
    "    for i in range(len(label_elements)):\n",
    "        label_text = label_elements[i].find('div').get_text(strip=True)\n",
    "        if label_text in labels:\n",
    "            text = text_elements[i].find('div').get_text(strip=True)\n",
    "            data[label_text] = text\n",
    "    \n",
    "    return pd.DataFrame([data])\n",
    "\n",
    "# List of URLs to scrape\n",
    "def extract_data_of_given_code(given_code):\n",
    "    if 1000 < given_code < 100000:\n",
    "        url = 'https://www.melketabriz.com/p/' + str(given_code)\n",
    "        df = extract_data(url, expected_labels)\n",
    "        return df\n",
    "    else:\n",
    "        print('invalid code')\n",
    "        return None\n",
    "\n",
    "# Expected labels (columns)\n",
    "expected_labels = [\n",
    "    \"کد آگهی\", \"منطقه\", \"محله\", \"متراژ\", \"قیمت کل\", \"طبقه\", \"تعداد اتاق\", \n",
    "    \"کل طبقات\", \"تعداد واحد در طبقه\", \"موقعیت\", \"نوع ساخت\",\n",
    "    \"سال ساخت\", \"نوع سند\", \"زمان تحویل\", \"متراژ گذر\", \"عرض قطعه\",\n",
    "    \"متراژ زمین\"\n",
    "]\n",
    "\n",
    "def add_to_excel(df):\n",
    "    try:\n",
    "        existing_df = pd.read_csv('combined_property_info.csv')\n",
    "    except FileNotFoundError:\n",
    "        existing_df = pd.DataFrame(columns=expected_labels)\n",
    "\n",
    "    combined_df = pd.concat([existing_df, df], ignore_index=True).fillna('')\n",
    "    \n",
    "    # Save the combined DataFrame to a CSV file with UTF-8 encoding\n",
    "    combined_df.to_csv('combined_property_info.csv', index=False, encoding='utf-8-sig')\n",
    "    \n",
    "    # Print the combined DataFrame to verify\n",
    "    print(combined_df)\n",
    "\n",
    "# Example usage\n",
    "df = extract_data_of_given_code(25923)\n",
    "if df is not None:\n",
    "    add_to_excel(df)\n"
   ]
  },
  {
   "cell_type": "code",
   "execution_count": null,
   "id": "5b835fca-43cf-4a61-9eed-8b6e2834d5cb",
   "metadata": {},
   "outputs": [],
   "source": []
  }
 ],
 "metadata": {
  "kernelspec": {
   "display_name": "Python 3 (ipykernel)",
   "language": "python",
   "name": "python3"
  },
  "language_info": {
   "codemirror_mode": {
    "name": "ipython",
    "version": 3
   },
   "file_extension": ".py",
   "mimetype": "text/x-python",
   "name": "python",
   "nbconvert_exporter": "python",
   "pygments_lexer": "ipython3",
   "version": "3.12.3"
  }
 },
 "nbformat": 4,
 "nbformat_minor": 5
}
