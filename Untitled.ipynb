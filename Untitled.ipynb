{
 "cells": [
  {
   "cell_type": "code",
   "execution_count": 116,
   "id": "7521eaa9-3874-4751-80fd-6a1a5f422b88",
   "metadata": {},
   "outputs": [
    {
     "name": "stdout",
     "output_type": "stream",
     "text": [
      "<h1>Hello, BeautifulSoup!</h1>\n",
      "Hello, BeautifulSoup!\n"
     ]
    }
   ],
   "source": [
    "\n",
    "from bs4 import BeautifulSoup\n",
    "\n",
    "html_doc = \"\"\"\n",
    "<html>\n",
    "    <body>\n",
    "        <h1>Hello, BeautifulSoup!</h1>\n",
    "        <ul>\n",
    "            <li><a href=\"http://example.com\">Link 1</a></li>\n",
    "            <li><a href=\"http://scrapy.org\">Link 2</a></li>\n",
    "        </ul>\n",
    "    </body>\n",
    "</html>\n",
    "\"\"\"\n",
    "\n",
    "soup = BeautifulSoup(html_doc, 'html.parser')\n",
    "\n",
    "## Find All <a> Tags\n",
    "print(soup.find('h1'))\n",
    "## --> <h1>Hello, BeautifulSoup!</h1>\n",
    "\n",
    "\n",
    "print(soup.find('h1').get_text())\n",
    "## -->'Hello, BeautifulSoup!'\n"
   ]
  },
  {
   "cell_type": "code",
   "execution_count": 119,
   "id": "ecc58587-d1f8-4d14-aaf3-2c5843ae4e14",
   "metadata": {},
   "outputs": [
    {
     "name": "stdout",
     "output_type": "stream",
     "text": [
      "[<h2 class=\"name-melk\">فروش آپارتمان مسکونی 127 متری</h2>]\n"
     ]
    }
   ],
   "source": [
    "from bs4 import BeautifulSoup\n",
    "import requests\n",
    "\n",
    "# sample web page\n",
    "sample_web_page = 'https://www.melketabriz.com/p/29951#!'\n",
    "\n",
    "# call get method to request that page\n",
    "page = requests.get(sample_web_page)\n",
    "\n",
    "# with the help of beautifulSoup and html parser create soup\n",
    "soup = BeautifulSoup(page.content, \"html.parser\")"
   ]
  },
  {
   "cell_type": "code",
   "execution_count": 120,
   "id": "38242c2c-7100-4303-a754-da19e8be195e",
   "metadata": {},
   "outputs": [
    {
     "name": "stdout",
     "output_type": "stream",
     "text": [
      "[<h2 class=\"name-melk\">فروش آپارتمان مسکونی 127 متری</h2>]\n"
     ]
    }
   ],
   "source": [
    "child_soup = soup.find_all('h2')\n",
    "\n",
    "print(child_soup)"
   ]
  },
  {
   "cell_type": "code",
   "execution_count": 143,
   "id": "5cd8a951-e655-4cb2-9e1c-9efa4f20bf47",
   "metadata": {},
   "outputs": [
    {
     "name": "stdout",
     "output_type": "stream",
     "text": [
      "[<div class=\"text-infmlk text-imprt col-6\"><div class=\"box\">29951</div></div>, <div class=\"text-infmlk col-6\"><div class=\"box\">پاستور جدید</div></div>, <div class=\"text-infmlk col-6\"><div class=\"box\">گلشن</div></div>, <div class=\"text-infmlk col-6\"><div class=\"box\">127</div></div>, <div class=\"text-infmlk text-imprt col-6\"><div class=\"box\">۵٬۱۰۰٬۰۰۰٬۰۰۰<span class=\"unit\">تومان</span></div></div>, <div class=\"text-infmlk col-6\"><div class=\"box\">4</div></div>, <div class=\"text-infmlk col-6\"><div class=\"box\">2</div></div>, <div class=\"text-infmlk col-6\"><div class=\"box\">5</div></div>, <div class=\"text-infmlk col-6\"><div class=\"box\">1</div></div>, <div class=\"text-infmlk col-6\"><div class=\"box\">1393</div></div>, <div class=\"text-infmlk col-6\"><div class=\"box\">شرقی</div></div>, <div class=\"text-infmlk col-6\"><div class=\"box\">شخصی ساز</div></div>, <div class=\"text-infmlk col-6\"><div class=\"box\">شش دانگ</div></div>]\n"
     ]
    }
   ],
   "source": [
    "child_soup1 = soup.find_all(my_class, attrs={\"class\":sub_class})\n",
    "\n",
    "print(child_soup1)"
   ]
  },
  {
   "cell_type": "code",
   "execution_count": 145,
   "id": "d93f943f-9b80-4a99-b105-9cfc23fddfdb",
   "metadata": {},
   "outputs": [
    {
     "name": "stdout",
     "output_type": "stream",
     "text": [
      "{\n",
      "    \"code\": \"29951\",\n",
      "    \"region\": \"پاستور جدید\",\n",
      "    \"neighborhood\": \"گلشن\",\n",
      "    \"area\": \"127\",\n",
      "    \"price\": \"۵٬۱۰۰٬۰۰۰٬۰۰۰تومان\",\n",
      "    \"floor\": \"۵٬۱۰۰٬۰۰۰٬۰۰۰تومان\",\n",
      "    \"rooms\": \"4\",\n",
      "    \"total_floors\": \"2\",\n",
      "    \"units_per_floor\": \"5\",\n",
      "    \"year_built\": \"1\",\n",
      "    \"orientation\": \"1393\",\n",
      "    \"construction_type\": \"شرقی\",\n",
      "    \"deed_type\": \"شخصی ساز\"\n",
      "}\n"
     ]
    }
   ],
   "source": [
    "import json\n",
    "data = {\n",
    "    \"code\": soup.find_all(class_='text-imprt')[0].find('div').get_text(strip=True),\n",
    "    \"region\": soup.find_all(class_='text-infmlk')[1].find('div').get_text(strip=True),\n",
    "    \"neighborhood\": soup.find_all(class_='text-infmlk')[2].find('div').get_text(strip=True),\n",
    "    \"area\": soup.find_all(class_='text-infmlk')[3].find('div').get_text(strip=True),\n",
    "    \"price\": soup.find_all(class_='text-imprt')[1].find('div').get_text(strip=True),\n",
    "    \"floor\": soup.find_all(class_='text-infmlk')[4].find('div').get_text(strip=True),\n",
    "    \"rooms\": soup.find_all(class_='text-infmlk')[5].find('div').get_text(strip=True),\n",
    "    \"total_floors\": soup.find_all(class_='text-infmlk')[6].find('div').get_text(strip=True),\n",
    "    \"units_per_floor\": soup.find_all(class_='text-infmlk')[7].find('div').get_text(strip=True),\n",
    "    \"year_built\": soup.find_all(class_='text-infmlk')[8].find('div').get_text(strip=True),\n",
    "    \"orientation\": soup.find_all(class_='text-infmlk')[9].find('div').get_text(strip=True),\n",
    "    \"construction_type\": soup.find_all(class_='text-infmlk')[10].find('div').get_text(strip=True),\n",
    "    \"deed_type\": soup.find_all(class_='text-infmlk')[11].find('div').get_text(strip=True),\n",
    "}\n",
    "\n",
    "# Convert the dictionary to a JSON object\n",
    "json_output = json.dumps(data, ensure_ascii=False, indent=4)\n",
    "\n",
    "# Print the JSON output\n",
    "print(json_output)"
   ]
  },
  {
   "cell_type": "code",
   "execution_count": 129,
   "id": "3e886323-41a8-4653-9b67-fa05f015b8bb",
   "metadata": {},
   "outputs": [
    {
     "ename": "SyntaxError",
     "evalue": "invalid syntax (3113811410.py, line 1)",
     "output_type": "error",
     "traceback": [
      "\u001b[1;36m  Cell \u001b[1;32mIn[129], line 1\u001b[1;36m\u001b[0m\n\u001b[1;33m    <div class=\"arcl-box about-melk col-12 p-0\"><h3 class=\"title-arcl\">توضیحات</h3><ul class=\"list-about\"><li>واحد دوبکس طبقه 4و 5</li><li>طیقه 4 پذیرایی  آشپزخانه بزرگ رو به تراس4/72 متری</li><li>و دستشویی و حمام یکجا</li><li>کف سرامیک /دیوارها کاغذ </li><li>و دارای کمد دیواری که شیب رو کاملا پوشش داده است</li><li>طبقه 5  دو اتاق خواب کاملاد نور گیر به اضافه حمام وتوالت فرنگی</li><li>به اضافه انباری و حیاط 45 متری در اختیار</li><li>آسانسور 3 نفری کوچک و پارکینگ کاملا بدون مزاحم و جدا گانه با کرکره برقی</li><li>جلوی  ساختمان جای پارک برای خودرو اضافه وجود دارد</li></ul><a href=\"#!\" class=\"more-about\" id=\"more_about\"></a></div>\u001b[0m\n\u001b[1;37m    ^\u001b[0m\n\u001b[1;31mSyntaxError\u001b[0m\u001b[1;31m:\u001b[0m invalid syntax\n"
     ]
    }
   ],
   "source": [
    "<div class=\"arcl-box about-melk col-12 p-0\"><h3 class=\"title-arcl\">توضیحات</h3><ul class=\"list-about\"><li>واحد دوبکس طبقه 4و 5</li><li>طیقه 4 پذیرایی  آشپزخانه بزرگ رو به تراس4/72 متری</li><li>و دستشویی و حمام یکجا</li><li>کف سرامیک /دیوارها کاغذ </li><li>و دارای کمد دیواری که شیب رو کاملا پوشش داده است</li><li>طبقه 5  دو اتاق خواب کاملاد نور گیر به اضافه حمام وتوالت فرنگی</li><li>به اضافه انباری و حیاط 45 متری در اختیار</li><li>آسانسور 3 نفری کوچک و پارکینگ کاملا بدون مزاحم و جدا گانه با کرکره برقی</li><li>جلوی  ساختمان جای پارک برای خودرو اضافه وجود دارد</li></ul><a href=\"#!\" class=\"more-about\" id=\"more_about\"></a></div>"
   ]
  },
  {
   "cell_type": "code",
   "execution_count": null,
   "id": "a86113b4-1f19-428d-bac1-5f58c7962ddb",
   "metadata": {},
   "outputs": [],
   "source": [
    "<div class=\"price-melk ml-3\">‏<!-- -->۵٬۱۰۰٬۰۰۰٬۰۰۰<span class=\"toman\">تومان</span></div>"
   ]
  },
  {
   "cell_type": "code",
   "execution_count": 142,
   "id": "75cf967c-6f89-4084-b828-1bdc91c99d55",
   "metadata": {},
   "outputs": [],
   "source": [
    "my_class = 'div'\n",
    "sub_class = 'text-infmlk'\n"
   ]
  },
  {
   "cell_type": "code",
   "execution_count": 137,
   "id": "439e8e85-131b-42ff-82e4-1f7efb3e2fe5",
   "metadata": {},
   "outputs": [
    {
     "name": "stdout",
     "output_type": "stream",
     "text": [
      "‏۵٬۱۰۰٬۰۰۰٬۰۰۰تومان\n"
     ]
    }
   ],
   "source": [
    "import requests\n",
    "from bs4 import BeautifulSoup\n",
    "\n",
    "# Send the request and get the HTML content\n",
    "r1 = requests.get('https://www.melketabriz.com/p/29951#!')\n",
    "soup = BeautifulSoup(r1.text, 'html.parser')\n",
    "\n",
    "# Find the div tag with the class 'price-melk'\n",
    "price_div = soup.find('div', class_='price-melk')\n",
    "\n",
    "# Check if the price div is found and extract the text\n",
    "if price_div:\n",
    "    # Extract the price text\n",
    "    price_text = price_div.get_text(strip=True)\n",
    "    print(price_text)\n",
    "else:\n",
    "    print(\"Price not found.\")\n"
   ]
  },
  {
   "cell_type": "code",
   "execution_count": null,
   "id": "6e09618d-34e3-4c8d-b5da-3105a4457d1c",
   "metadata": {},
   "outputs": [],
   "source": [
    "<div class=\"text-infmlk text-imprt col-6\"><div class=\"box\">29951</div></div>"
   ]
  }
 ],
 "metadata": {
  "kernelspec": {
   "display_name": "Python 3 (ipykernel)",
   "language": "python",
   "name": "python3"
  },
  "language_info": {
   "codemirror_mode": {
    "name": "ipython",
    "version": 3
   },
   "file_extension": ".py",
   "mimetype": "text/x-python",
   "name": "python",
   "nbconvert_exporter": "python",
   "pygments_lexer": "ipython3",
   "version": "3.12.3"
  }
 },
 "nbformat": 4,
 "nbformat_minor": 5
}
